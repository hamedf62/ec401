{
 "cells": [
  {
   "cell_type": "code",
   "execution_count": 4,
   "metadata": {},
   "outputs": [
    {
     "name": "stdout",
     "output_type": "stream",
     "text": [
      "before function define\n",
      "after function define\n",
      "i am the function!\n"
     ]
    }
   ],
   "source": [
    "print(\"before function define\")\n",
    "\n",
    "def myfunc():\n",
    "    print(\"i am the function!\")\n",
    "\n",
    "print(\"after function define\")\n",
    "\n",
    "myfunc()"
   ]
  },
  {
   "cell_type": "code",
   "execution_count": 10,
   "metadata": {},
   "outputs": [
    {
     "name": "stdout",
     "output_type": "stream",
     "text": [
      "30\n",
      "None\n"
     ]
    }
   ],
   "source": [
    "def add_value(x, y):\n",
    "    result = x + y\n",
    "    print(result)\n",
    "\n",
    "final_result = add_value(10,20)\n",
    "print(final_result)"
   ]
  },
  {
   "cell_type": "code",
   "execution_count": 8,
   "metadata": {},
   "outputs": [
    {
     "name": "stdout",
     "output_type": "stream",
     "text": [
      "30\n"
     ]
    }
   ],
   "source": [
    "def add_value(x, y):\n",
    "    result = x + y\n",
    "    return result\n",
    "\n",
    "final_result = add_value(10,20)\n",
    "print(final_result)"
   ]
  },
  {
   "cell_type": "code",
   "execution_count": 15,
   "metadata": {},
   "outputs": [
    {
     "name": "stdout",
     "output_type": "stream",
     "text": [
      "sorry i cant!\n"
     ]
    },
    {
     "data": {
      "text/plain": [
       "False"
      ]
     },
     "execution_count": 15,
     "metadata": {},
     "output_type": "execute_result"
    }
   ],
   "source": [
    "def product_values(x,y):\n",
    "    if x >= 5:\n",
    "        print(\"sorry i cant!\")\n",
    "        return False\n",
    "    else:\n",
    "        return x * y\n",
    "\n",
    "final_result = product_values(5,3)\n",
    "final_result"
   ]
  },
  {
   "cell_type": "code",
   "execution_count": null,
   "metadata": {},
   "outputs": [],
   "source": []
  }
 ],
 "metadata": {
  "kernelspec": {
   "display_name": "Python 3.10.5 64-bit ('3.10.5')",
   "language": "python",
   "name": "python3"
  },
  "language_info": {
   "codemirror_mode": {
    "name": "ipython",
    "version": 3
   },
   "file_extension": ".py",
   "mimetype": "text/x-python",
   "name": "python",
   "nbconvert_exporter": "python",
   "pygments_lexer": "ipython3",
   "version": "3.10.5"
  },
  "orig_nbformat": 4,
  "vscode": {
   "interpreter": {
    "hash": "1f0d7b009779bad448ec124c2e20467175998c797bde1194c55aadd31ce53d62"
   }
  }
 },
 "nbformat": 4,
 "nbformat_minor": 2
}
