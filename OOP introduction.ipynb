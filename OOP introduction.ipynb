{
 "cells": [
  {
   "cell_type": "code",
   "execution_count": 30,
   "metadata": {},
   "outputs": [
    {
     "name": "stdout",
     "output_type": "stream",
     "text": [
      "i am Omid\n",
      "i am Amir\n"
     ]
    }
   ],
   "source": [
    "class Person:\n",
    "    \n",
    "    def get_name(self,fname):\n",
    "        # print(\"i am Ali!\")\n",
    "        print(f\"i am {fname}\")\n",
    "\n",
    "p1 = Person()\n",
    "p2 = Person()\n",
    "\n",
    "p1.get_name(\"Omid\")\n",
    "p2.get_name(\"Amir\")\n"
   ]
  },
  {
   "cell_type": "code",
   "execution_count": 33,
   "metadata": {},
   "outputs": [
    {
     "name": "stdout",
     "output_type": "stream",
     "text": [
      "Akbar Dehghan\n",
      "age: 18\n",
      "i am Akbar - Dehghan\n"
     ]
    }
   ],
   "source": [
    "class Person:\n",
    "\n",
    "    def __init__(self, fname, lname):\n",
    "        # print(fname)\n",
    "        self.fname=fname\n",
    "        self.lname = lname\n",
    "\n",
    "\n",
    "    def get_name(self):\n",
    "        print(f\"i am {self.fname} - {self.lname}\")\n",
    "\n",
    "p1 = Person(fname=\"Akbar\",lname=\"Dehghan\")\n",
    "\n",
    "# p1.age = 18\n",
    "# print(p1.fname)\n",
    "# print(p1.lname)\n",
    "print(f\"{p1.fname} {p1.lname}\")\n",
    "\n",
    "# print(f\"age: {p1.age}\")\n",
    "\n",
    "p1.get_name()"
   ]
  },
  {
   "cell_type": "code",
   "execution_count": 37,
   "metadata": {},
   "outputs": [
    {
     "name": "stdout",
     "output_type": "stream",
     "text": [
      "Akbar Dehghan\n",
      "Fatemeh Jamshidi\n"
     ]
    }
   ],
   "source": [
    "class Person:\n",
    "\n",
    "    def __init__(self, fname, lname):\n",
    "        self.fname=fname\n",
    "        self.lname = lname\n",
    "\n",
    "\n",
    "    def get_name(self):\n",
    "        print(f\"i am {self.fname} - {self.lname}\")\n",
    "\n",
    "p1 = Person(fname=\"Akbar\",lname=\"Dehghan\")\n",
    "p2 = Person(\"Fatemeh\",\"Jamshidi\")\n",
    "print(p1.fname, p1.lname)\n",
    "print(p2.fname, p2.lname)"
   ]
  },
  {
   "cell_type": "code",
   "execution_count": 44,
   "metadata": {},
   "outputs": [],
   "source": [
    "my_objects = []\n",
    "for i in range(0,3):\n",
    "    my_objects.append(Person(\"fake\"+str(i),\"fake\"+str(i)))\n",
    "    "
   ]
  },
  {
   "cell_type": "code",
   "execution_count": 45,
   "metadata": {},
   "outputs": [
    {
     "data": {
      "text/plain": [
       "[<__main__.Person at 0x1108b3700>,\n",
       " <__main__.Person at 0x1100ccbe0>,\n",
       " <__main__.Person at 0x1100cd090>]"
      ]
     },
     "execution_count": 45,
     "metadata": {},
     "output_type": "execute_result"
    }
   ],
   "source": [
    "my_objects"
   ]
  },
  {
   "cell_type": "code",
   "execution_count": 47,
   "metadata": {},
   "outputs": [
    {
     "name": "stdout",
     "output_type": "stream",
     "text": [
      "fake0 fake0\n",
      "fake1 fake1\n",
      "fake2 fake2\n"
     ]
    }
   ],
   "source": [
    "for object in my_objects:\n",
    "    print(object.fname, object.lname)"
   ]
  },
  {
   "cell_type": "code",
   "execution_count": 49,
   "metadata": {},
   "outputs": [
    {
     "name": "stdout",
     "output_type": "stream",
     "text": [
      "<__main__.Person object at 0x1100ccc10>\n"
     ]
    },
    {
     "ename": "NameError",
     "evalue": "name 'p1' is not defined",
     "output_type": "error",
     "traceback": [
      "\u001b[0;31m---------------------------------------------------------------------------\u001b[0m",
      "\u001b[0;31mNameError\u001b[0m                                 Traceback (most recent call last)",
      "Cell \u001b[0;32mIn [49], line 7\u001b[0m\n\u001b[1;32m      3\u001b[0m \u001b[39mprint\u001b[39m(p1)\n\u001b[1;32m      5\u001b[0m \u001b[39mdel\u001b[39;00m p1\n\u001b[0;32m----> 7\u001b[0m \u001b[39mprint\u001b[39m(p1)\n",
      "\u001b[0;31mNameError\u001b[0m: name 'p1' is not defined"
     ]
    }
   ],
   "source": [
    "# for delete an object or variable\n",
    "\n",
    "print(p1)\n",
    "\n",
    "del p1\n",
    "\n",
    "print(p1)"
   ]
  },
  {
   "cell_type": "code",
   "execution_count": null,
   "metadata": {},
   "outputs": [],
   "source": []
  }
 ],
 "metadata": {
  "kernelspec": {
   "display_name": "Python 3.10.5 64-bit ('3.10.5')",
   "language": "python",
   "name": "python3"
  },
  "language_info": {
   "codemirror_mode": {
    "name": "ipython",
    "version": 3
   },
   "file_extension": ".py",
   "mimetype": "text/x-python",
   "name": "python",
   "nbconvert_exporter": "python",
   "pygments_lexer": "ipython3",
   "version": "3.10.5"
  },
  "orig_nbformat": 4,
  "vscode": {
   "interpreter": {
    "hash": "1f0d7b009779bad448ec124c2e20467175998c797bde1194c55aadd31ce53d62"
   }
  }
 },
 "nbformat": 4,
 "nbformat_minor": 2
}
