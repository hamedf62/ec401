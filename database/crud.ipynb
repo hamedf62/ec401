{
 "cells": [
  {
   "cell_type": "code",
   "execution_count": null,
   "metadata": {},
   "outputs": [],
   "source": [
    "from sqlalchemy import create_engine, Column, Integer, String, Float\n",
    "\n",
    "engine = create_engine('sqlite:///ec401.db', echo = False)"
   ]
  },
  {
   "cell_type": "code",
   "execution_count": 4,
   "metadata": {},
   "outputs": [],
   "source": [
    "from sqlalchemy.ext.declarative import declarative_base\n",
    "Base = declarative_base()\n",
    "\n",
    "class Students(Base):\n",
    "    __tablename__ = \"students\"\n",
    "\n",
    "    id = Column(Integer, primary_key = True)\n",
    "    name = Column(String)\n",
    "    age = Column(Integer)\n",
    "    avg_score = Column(Float)\n",
    "\n",
    "Base.metadata.create_all(engine)"
   ]
  },
  {
   "cell_type": "code",
   "execution_count": 12,
   "metadata": {},
   "outputs": [],
   "source": [
    "from sqlalchemy.orm import sessionmaker\n",
    "Session = sessionmaker(bind = engine)\n",
    "session = Session()"
   ]
  },
  {
   "cell_type": "code",
   "execution_count": 43,
   "metadata": {},
   "outputs": [],
   "source": [
    "student_1 = Students(name=\"Mehrdad\",age=25,avg_score=19.75)\n"
   ]
  },
  {
   "cell_type": "code",
   "execution_count": 10,
   "metadata": {},
   "outputs": [
    {
     "data": {
      "text/plain": [
       "19.75"
      ]
     },
     "execution_count": 10,
     "metadata": {},
     "output_type": "execute_result"
    }
   ],
   "source": [
    "# student_1.avg_score"
   ]
  },
  {
   "cell_type": "code",
   "execution_count": 44,
   "metadata": {},
   "outputs": [],
   "source": [
    "session.add(student_1)\n",
    "session.commit()"
   ]
  },
  {
   "cell_type": "code",
   "execution_count": 15,
   "metadata": {},
   "outputs": [],
   "source": [
    "some_students = [Students(name=\"Zahra\",age=23,avg_score=19.25),\n",
    "Students(name=\"Hamid\",age=29,avg_score=11)]"
   ]
  },
  {
   "cell_type": "code",
   "execution_count": 19,
   "metadata": {},
   "outputs": [
    {
     "data": {
      "text/plain": [
       "'Hamid'"
      ]
     },
     "execution_count": 19,
     "metadata": {},
     "output_type": "execute_result"
    }
   ],
   "source": [
    "some_students[1].name"
   ]
  },
  {
   "cell_type": "code",
   "execution_count": 20,
   "metadata": {},
   "outputs": [],
   "source": [
    "session.add_all(some_students)\n",
    "session.commit()\n"
   ]
  },
  {
   "cell_type": "code",
   "execution_count": 21,
   "metadata": {},
   "outputs": [
    {
     "data": {
      "text/plain": [
       "[['majid', 20, 17], ['fatemeh', 18, 16.5]]"
      ]
     },
     "execution_count": 21,
     "metadata": {},
     "output_type": "execute_result"
    }
   ],
   "source": [
    "my_students = [[\"majid\",20,17],[\"fatemeh\",18,16.50]]\n",
    "my_students"
   ]
  },
  {
   "cell_type": "code",
   "execution_count": 26,
   "metadata": {},
   "outputs": [
    {
     "name": "stdout",
     "output_type": "stream",
     "text": [
      "[<__main__.Students object at 0x10b46add0>, <__main__.Students object at 0x10b46b520>]\n"
     ]
    }
   ],
   "source": [
    "students_object = []\n",
    "for student in my_students:\n",
    "    # print(student)\n",
    "    students_object.append(Students(name=student[0],age=student[1],avg_score=student[2]))\n",
    "\n",
    "print(students_object)\n",
    "session.add_all(students_object)\n",
    "session.commit()"
   ]
  },
  {
   "cell_type": "code",
   "execution_count": 27,
   "metadata": {},
   "outputs": [
    {
     "name": "stdout",
     "output_type": "stream",
     "text": [
      "[<__main__.Students object at 0x10b46a9b0>, <__main__.Students object at 0x10b46b670>, <__main__.Students object at 0x10b46b970>, <__main__.Students object at 0x10b46add0>, <__main__.Students object at 0x10b46b520>]\n"
     ]
    }
   ],
   "source": [
    "# retrieve data\n",
    "selected_students = session.query(Students).all()\n",
    "print(selected_students)"
   ]
  },
  {
   "cell_type": "code",
   "execution_count": 31,
   "metadata": {},
   "outputs": [
    {
     "data": {
      "text/plain": [
       "18"
      ]
     },
     "execution_count": 31,
     "metadata": {},
     "output_type": "execute_result"
    }
   ],
   "source": [
    "selected_students[4].age"
   ]
  },
  {
   "cell_type": "code",
   "execution_count": 34,
   "metadata": {},
   "outputs": [
    {
     "ename": "AttributeError",
     "evalue": "'Query' object has no attribute 'last'",
     "output_type": "error",
     "traceback": [
      "\u001b[0;31m---------------------------------------------------------------------------\u001b[0m",
      "\u001b[0;31mAttributeError\u001b[0m                            Traceback (most recent call last)",
      "Cell \u001b[0;32mIn [34], line 1\u001b[0m\n\u001b[0;32m----> 1\u001b[0m selected_student \u001b[39m=\u001b[39m session\u001b[39m.\u001b[39;49mquery(Students)\u001b[39m.\u001b[39;49mlast()\n\u001b[1;32m      2\u001b[0m \u001b[39mprint\u001b[39m(selected_student\u001b[39m.\u001b[39mname)\n",
      "\u001b[0;31mAttributeError\u001b[0m: 'Query' object has no attribute 'last'"
     ]
    }
   ],
   "source": [
    "selected_student = session.query(Students).first()\n",
    "print(selected_student.name)"
   ]
  },
  {
   "cell_type": "code",
   "execution_count": 36,
   "metadata": {},
   "outputs": [
    {
     "name": "stdout",
     "output_type": "stream",
     "text": [
      "Hamid 29\n"
     ]
    }
   ],
   "source": [
    "selected_student = session.query(Students).order_by(Students.age.desc()).first()\n",
    "print(selected_student.name,selected_student.age)"
   ]
  },
  {
   "cell_type": "code",
   "execution_count": 38,
   "metadata": {},
   "outputs": [
    {
     "name": "stdout",
     "output_type": "stream",
     "text": [
      "Mehrdad 25 19.75\n",
      "Zahra 23 19.25\n",
      "Hamid 29 11.0\n"
     ]
    }
   ],
   "source": [
    "mutual_students = session.query(Students).filter(Students.age > 20).all()\n",
    "\n",
    "for mstudent in mutual_students:\n",
    "    print(mstudent.name,mstudent.age,mstudent.avg_score)"
   ]
  },
  {
   "cell_type": "code",
   "execution_count": 42,
   "metadata": {},
   "outputs": [],
   "source": [
    "session.rollback()\n",
    "deletable_student = session.query(Students).filter(Students.id==5).first()\n",
    "session.delete(deletable_student)\n",
    "session.commit()"
   ]
  },
  {
   "cell_type": "code",
   "execution_count": 49,
   "metadata": {},
   "outputs": [
    {
     "data": {
      "text/html": [
       "<div>\n",
       "<style scoped>\n",
       "    .dataframe tbody tr th:only-of-type {\n",
       "        vertical-align: middle;\n",
       "    }\n",
       "\n",
       "    .dataframe tbody tr th {\n",
       "        vertical-align: top;\n",
       "    }\n",
       "\n",
       "    .dataframe thead th {\n",
       "        text-align: right;\n",
       "    }\n",
       "</style>\n",
       "<table border=\"1\" class=\"dataframe\">\n",
       "  <thead>\n",
       "    <tr style=\"text-align: right;\">\n",
       "      <th></th>\n",
       "      <th>id</th>\n",
       "      <th>name</th>\n",
       "      <th>age</th>\n",
       "      <th>avg_score</th>\n",
       "    </tr>\n",
       "  </thead>\n",
       "  <tbody>\n",
       "    <tr>\n",
       "      <th>0</th>\n",
       "      <td>1</td>\n",
       "      <td>Mehrdad</td>\n",
       "      <td>25</td>\n",
       "      <td>19.75</td>\n",
       "    </tr>\n",
       "    <tr>\n",
       "      <th>1</th>\n",
       "      <td>4</td>\n",
       "      <td>majid</td>\n",
       "      <td>20</td>\n",
       "      <td>17.00</td>\n",
       "    </tr>\n",
       "    <tr>\n",
       "      <th>2</th>\n",
       "      <td>5</td>\n",
       "      <td>Mehrdad</td>\n",
       "      <td>25</td>\n",
       "      <td>19.75</td>\n",
       "    </tr>\n",
       "  </tbody>\n",
       "</table>\n",
       "</div>"
      ],
      "text/plain": [
       "   id     name  age  avg_score\n",
       "0   1  Mehrdad   25      19.75\n",
       "1   4    majid   20      17.00\n",
       "2   5  Mehrdad   25      19.75"
      ]
     },
     "execution_count": 49,
     "metadata": {},
     "output_type": "execute_result"
    }
   ],
   "source": [
    "import pandas as pd\n",
    "from sqlalchemy import or_\n",
    "\n",
    "q = session.query(Students).filter(or_(Students.age ==20,Students.age==25))\n",
    "\n",
    "data = pd.read_sql(q.statement, session.connection())\n",
    "data"
   ]
  }
 ],
 "metadata": {
  "kernelspec": {
   "display_name": ".venv",
   "language": "python",
   "name": "python3"
  },
  "language_info": {
   "codemirror_mode": {
    "name": "ipython",
    "version": 3
   },
   "file_extension": ".py",
   "mimetype": "text/x-python",
   "name": "python",
   "nbconvert_exporter": "python",
   "pygments_lexer": "ipython3",
   "version": "3.10.5"
  },
  "orig_nbformat": 4,
  "vscode": {
   "interpreter": {
    "hash": "77f40a46040e3f6fa9a6784a454523ae7ff049bc413667dd216fa0c1e16b6b80"
   }
  }
 },
 "nbformat": 4,
 "nbformat_minor": 2
}
